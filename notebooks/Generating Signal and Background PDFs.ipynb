{
 "cells": [
  {
   "cell_type": "code",
   "execution_count": 1,
   "metadata": {
    "collapsed": true
   },
   "outputs": [],
   "source": [
    "using HypothesisTests\n",
    "using Distributions\n",
    "using KernelDensity\n",
    "using Optim\n",
    "using Interpolations\n",
    "using StatsBase\n",
    "\n",
    "using PyPlot "
   ]
  },
  {
   "cell_type": "code",
   "execution_count": 2,
   "metadata": {
    "collapsed": false
   },
   "outputs": [
    {
     "data": {
      "text/plain": [
       "\"/Users/nicholassenno/DataScience/sne_nu/notebooks\""
      ]
     },
     "execution_count": 2,
     "metadata": {},
     "output_type": "execute_result"
    }
   ],
   "source": [
    "starting_pwd = pwd()"
   ]
  },
  {
   "cell_type": "code",
   "execution_count": 3,
   "metadata": {
    "collapsed": false
   },
   "outputs": [
    {
     "data": {
      "text/plain": [
       "calc_D_prop (generic function with 1 method)"
      ]
     },
     "execution_count": 3,
     "metadata": {},
     "output_type": "execute_result"
    }
   ],
   "source": [
    "#import some functions and constants to help with cosmology calculations\n",
    "cd(\"../code\")\n",
    "include(\"cosmology.jl\")"
   ]
  },
  {
   "cell_type": "code",
   "execution_count": 4,
   "metadata": {
    "collapsed": false
   },
   "outputs": [],
   "source": [
    "# Create an immutable type nu which contains the arrival time and direction (Right Assension RA and Declination Dec)\n",
    "# These objects will be useful when creating random samples \n",
    "\n",
    "immutable nu\n",
    "    mjd::Float64\n",
    "    ang_err::Float64\n",
    "    ra::Float64\n",
    "    dec::Float64\n",
    "end\n",
    "\n",
    "# TODO : See if zenith_bin is necessary if we don't consider energy \n",
    "\n",
    "# custom type that will store all the relevant information for a SN, including its max time, location, \n",
    "# distance (redshift), and the neutrinos associated in its window\n",
    "\n",
    "type sn\n",
    "  max_date::Float64\n",
    "  ra::Float64\n",
    "  dec::Float64\n",
    "  z::Float64\n",
    "  zenith_bin::Int\n",
    "  nb::Float64\n",
    "  coefs::Array{Float64,1}\n",
    "\n",
    "  function sn(max_date::Real,ra::Float64,dec::Float64,z::Float64)\n",
    "      new_sn = new(max_date,ra,dec,z);\n",
    "      new_sn.coefs = Float64[];\n",
    "\n",
    "      return new_sn\n",
    "  end\n",
    "end\n",
    "\n",
    "add_coefs!(t_sn::sn, coefs::Array{Float64,1}) = t_sn.coefs=coefs;\n",
    "add_nb_and_zenith_bin_idx!(t_sn::sn, nb::Float64, kk::Int) = (t_sn.nb=nb; t_sn.zenith_bin = kk;)\n",
    "\n",
    "rm_coefs!(t_sn) = t_sn.coefs=Float64[];"
   ]
  },
  {
   "cell_type": "markdown",
   "metadata": {},
   "source": [
    "## Bkg Dec\n",
    "\n",
    "Because the background distribution of neutrino arrival declinations does not follow a simple distribution, we will use a sample of neutrinos that are outside of the directional and temporal windows of all SNe. Below, I define functions that find the neutrinos associated with each SN, and then checks which neutrinos are not associated with any SNe. \n",
    "\n",
    "I write the values of the backround declinations to the file \"bkg_nu_dec_values.dat\". To create a background PDF function for later use I read in these values and perform Kernal Density Esitmation with its corresponding interpolation function. "
   ]
  },
  {
   "cell_type": "code",
   "execution_count": 5,
   "metadata": {
    "collapsed": false
   },
   "outputs": [
    {
     "data": {
      "text/plain": [
       "find_associated_nus (generic function with 1 method)"
      ]
     },
     "execution_count": 5,
     "metadata": {},
     "output_type": "execute_result"
    }
   ],
   "source": [
    "function find_associated_nus(t_sn::sn, t_nus::Array{nu,1})\n",
    "    n_hi = 19;\n",
    "    n_lo = 4;\n",
    "    alpha = 0.99;\n",
    "    t_coef = 1.0-2.0*alpha;\n",
    "\n",
    "    t_len_nu = length(t_nus);\n",
    "\n",
    "    in_time_window = [t_sn.max_date - n_hi <= t_nus[j].mjd <= t_sn.max_date - n_lo for j in 1:t_len_nu];\n",
    "\n",
    "    t_kappa = [1./t_nus[j].ang_err.^2 for j in 1:t_len_nu];\n",
    "    t_mu = [sin(t_sn.dec)*sin(t_nus[j].dec) + cos(t_sn.dec)*\n",
    "        cos(t_nus[j].dec)*cos(t_sn.ra-t_nus[j].ra) for j in 1:t_len_nu];\n",
    "\n",
    "    in_ang_window = Array(Bool,t_len_nu);\n",
    "    acceptance_mu = Array(Float64,t_len_nu);\n",
    "\n",
    "    for j in 1:t_len_nu\n",
    "        if t_kappa[j] > 10.0\n",
    "            acceptance_mu[j] = 1.0 + log(1.0-alpha)/t_kappa[j];\n",
    "        elseif 1e-2 < t_kappa[j] <= 10.0\n",
    "            acceptance_mu[j] = log(exp(t_kappa[j]) - 2.0*alpha*sinh(t_kappa[j]))/t_kappa[j];\n",
    "        elseif 0.0 < t_kappa[j] <= 1e-2\n",
    "            acceptance_mu[j] = log(1+t_coef*t_kappa[j] + 0.5*t_kappa[j]^2 + t_coef*t_kappa[j]^3/6)/t_kappa[j]\n",
    "        else\n",
    "            error(\"strange kappa in find_associated_nus\");\n",
    "        end\n",
    "    end\n",
    "    in_ang_window[:] = t_mu .> acceptance_mu;\n",
    "    return in_time_window.*in_ang_window;\n",
    "end"
   ]
  },
  {
   "cell_type": "code",
   "execution_count": 6,
   "metadata": {
    "collapsed": false
   },
   "outputs": [
    {
     "data": {
      "text/plain": [
       "(\n",
       "[55694.0 0.0174533 4.8014 0.682424; 55695.0 0.00872665 1.61443 0.0820305; … ; 56062.0 0.0139626 4.29176 0.645772; 56062.0 0.00349066 6.05455 1.17112],\n",
       "\n",
       "AbstractString[\"MJD\" \"ang_err (rad)\" \"RA (rad)\" \"Dec (rad)\"])"
      ]
     },
     "execution_count": 6,
     "metadata": {},
     "output_type": "execute_result"
    }
   ],
   "source": [
    "cd(\"../data/\")\n",
    "nu_data = readdlm(\"cleaned_nu_data.csv\",',',header=true)"
   ]
  },
  {
   "cell_type": "code",
   "execution_count": 7,
   "metadata": {
    "collapsed": false
   },
   "outputs": [
    {
     "data": {
      "text/html": [
       "69227"
      ],
      "text/plain": [
       "69227"
      ]
     },
     "execution_count": 7,
     "metadata": {},
     "output_type": "execute_result"
    }
   ],
   "source": [
    "len_nus = length(nu_data[1][:,1])"
   ]
  },
  {
   "cell_type": "code",
   "execution_count": 8,
   "metadata": {
    "collapsed": false
   },
   "outputs": [
    {
     "name": "stdout",
     "output_type": "stream",
     "text": [
      "  0.110161 seconds (610.29 k allocations: 21.959 MB, 5.27% gc time)\n"
     ]
    }
   ],
   "source": [
    "#import all of the neutrino data into neutrino structures \n",
    "@time nus = [nu(nu_data[1][i,:]...) for i in 1:length(nu_data[1][:,1])];"
   ]
  },
  {
   "cell_type": "code",
   "execution_count": 9,
   "metadata": {
    "collapsed": false
   },
   "outputs": [
    {
     "data": {
      "text/plain": [
       "(\n",
       "Any[\"SN2011ep\" 55750.5 … 0.28 \"Ic\"; \"PTF11ixk\" 55765.5 … 0.021 \"Ic\"; … ; \"SN2012bw\" 56039.5 … 0.0309 \"Ic\"; \"PTF12cde\" 56068.5 … 0.0125 \"Ib/c\"],\n",
       "\n",
       "AbstractString[\"Name\" \"Max Date (MJD)\" … \"z\" \"Type\"])"
      ]
     },
     "execution_count": 9,
     "metadata": {},
     "output_type": "execute_result"
    }
   ],
   "source": [
    "sne_data = readdlm(\"cleaned_sne_data.csv\",',',header=true)"
   ]
  },
  {
   "cell_type": "code",
   "execution_count": 10,
   "metadata": {
    "collapsed": false
   },
   "outputs": [],
   "source": [
    "sne = [sn(sne_data[1][i,2:5]...) for i in 1:length(sne_data[1][:,1])];"
   ]
  },
  {
   "cell_type": "code",
   "execution_count": 11,
   "metadata": {
    "collapsed": false
   },
   "outputs": [
    {
     "data": {
      "text/plain": [
       "1:69227"
      ]
     },
     "execution_count": 11,
     "metadata": {},
     "output_type": "execute_result"
    }
   ],
   "source": [
    "nu_idxs = range(1,len_nus)"
   ]
  },
  {
   "cell_type": "code",
   "execution_count": 12,
   "metadata": {
    "collapsed": false
   },
   "outputs": [
    {
     "data": {
      "text/plain": [
       "Dict{SubString{String},Array{Int64,1}} with 29 entries:\n",
       "  \"SN2011fz\" => [35366,35770,35952,36311,36350,36464,36777,36855,36901,37457]\n",
       "  \"SN2011gd\" => [14919,15127,15208,15317,15379,15393,15773,15813,16156,16336,16…\n",
       "  \"SN2012bw\" => [61808,61826,63038,63335,63840,63979,64031,64403]\n",
       "  \"SN2011ep\" => [7168,7376,8445,8538,8726,8907,8996,9082,9811]\n",
       "  \"SN2011gh\" => [22813,22942,22948,23005,23308,23531,23557,23791,23945,24031,24…\n",
       "  \"PTF11kaa\" => [12166,12168,12251,12406,12533,12833,12962,13754,13765,13974,14…\n",
       "  \"PS1-12sk\" => [57023,57323,57385,57408,57429,57637,57754,58361,58393,58586  ……\n",
       "  \"SN2012ap\" => [50394,50554,50714,51380,51506,51639,51664,52339,52376]\n",
       "  \"SN2011kf\" => [41685,41847,41861,41863,41884,42072,42670,42891,43103,43148,43…\n",
       "  \"PTF11ilr\" => [11462,11502,12166,12251,12545,12589,12898,12901,13060,13662,13…\n",
       "  \"SN2011ee\" => [11702,12166,12251,12290,12428,12589,12832,12898,12901,13060,13…\n",
       "  \"PTF11kmb\" => [21258,21275,21445,21712,21768,22189,22306,22546,22753,22942,23…\n",
       "  \"SN2011kg\" => [44103,44131,44146,44278,44573,44876,45011,45328,46006,46013,46…\n",
       "  \"SN2012F\"  => [42509,42734,42876,42906,43305,43941,44146,44270,44565,44839,44…\n",
       "  \"SN2012il\" => [45008,45303,45328,45338,45794,46197,46238,46305,46403,46563,46…\n",
       "  \"PTF11izq\" => [11502,11713,12131,12166,12477,12875]\n",
       "  \"LSQ11jw\"  => [39272,39413,40433,40663,41230]\n",
       "  \"PTF11ixk\" => [10107,10158,10270,11183,11285,11502,11617,11713,11801,12166,12…\n",
       "  \"SN2011it\" => [40490,40982,41331,41428,41621,41731,41733,41807,41884,42039,42…\n",
       "  \"SN2012aa\" => [46920,48020,48370]\n",
       "  \"SN2011ft\" => [22942,22962,23272,23277,23286,23308,23804,23945,24084,24314,25…\n",
       "  \"PTF12bwq\" => [56032,56152,56167,56734,56857,56874,57408,57596,57602,57754,57…\n",
       "  \"SN2011jm\" => [40433,40640,40750,40822,41119,41428,41466,41884,41933,42306,42…\n",
       "  \"SN2011fl\" => [22942,23144,23258,23308,23582,23758,23945,24084,24232,24292,24…\n",
       "  \"PTF11qcj\" => [30457,30624,30709,31049,31198,31221,31338,31431,32173,32190,32…\n",
       "  ⋮          => ⋮"
      ]
     },
     "execution_count": 12,
     "metadata": {},
     "output_type": "execute_result"
    }
   ],
   "source": [
    "my_dict = Dict(sne_data[1][i,1] => nu_idxs[find_associated_nus(a_sn,nus)] for (i,a_sn) in enumerate(sne))"
   ]
  },
  {
   "cell_type": "code",
   "execution_count": 13,
   "metadata": {
    "collapsed": false
   },
   "outputs": [
    {
     "data": {
      "text/plain": [
       "is_contained (generic function with 1 method)"
      ]
     },
     "execution_count": 13,
     "metadata": {},
     "output_type": "execute_result"
    }
   ],
   "source": [
    "function is_contained(val, itr)\n",
    "    for it in itr\n",
    "        if val in it\n",
    "            return true\n",
    "        end\n",
    "    end\n",
    "    \n",
    "    return false\n",
    "end"
   ]
  },
  {
   "cell_type": "code",
   "execution_count": 27,
   "metadata": {
    "collapsed": false
   },
   "outputs": [],
   "source": [
    "idxs_of_non_associated_nus = [~is_contained(idx,values(my_dict)) for idx in nu_idxs];"
   ]
  },
  {
   "cell_type": "code",
   "execution_count": 15,
   "metadata": {
    "collapsed": true
   },
   "outputs": [],
   "source": [
    "writedlm(\"idx_of_bkg_nus.csv\",idxs_of_non_associated_nus,',')"
   ]
  },
  {
   "cell_type": "code",
   "execution_count": 16,
   "metadata": {
    "collapsed": false
   },
   "outputs": [],
   "source": [
    "convert(Array{Bool},idxs_of_non_associated_nus);"
   ]
  },
  {
   "cell_type": "code",
   "execution_count": 51,
   "metadata": {
    "collapsed": false
   },
   "outputs": [
    {
     "name": "stderr",
     "output_type": "stream",
     "text": [
      "WARNING: Method definition get_dec_pdf(Array{Float64, 1}) in module Main at In[25]:3 overwritten at In[51]:3.\n"
     ]
    },
    {
     "data": {
      "text/plain": [
       "get_dec_pdf (generic function with 1 method)"
      ]
     },
     "execution_count": 51,
     "metadata": {},
     "output_type": "execute_result"
    }
   ],
   "source": [
    "function get_dec_pdf(t_nu_dec::Array{Float64,1})\n",
    "\n",
    "    nu_dec_kde = kde(t_nu_dec);\n",
    "    nu_dec_interp = InterpKDE(nu_dec_kde);\n",
    "\n",
    "    function (xx) yy = pdf(nu_dec_interp,xx);  return yy > 0 ? yy : NaN end\n",
    "end"
   ]
  },
  {
   "cell_type": "code",
   "execution_count": 59,
   "metadata": {
    "collapsed": false
   },
   "outputs": [],
   "source": [
    "bkg_dec = [particle.dec for particle in nus[idxs_of_non_associated_nus]];"
   ]
  },
  {
   "cell_type": "code",
   "execution_count": 29,
   "metadata": {
    "collapsed": true
   },
   "outputs": [],
   "source": [
    "writedlm(\"bkg_nu_dec_values.dat\",bkg_dec)"
   ]
  },
  {
   "cell_type": "code",
   "execution_count": 31,
   "metadata": {
    "collapsed": false
   },
   "outputs": [],
   "source": [
    "nu_dec_kde = kde(bkg_dec);\n",
    "nu_dec_interp = InterpKDE(nu_dec_kde);"
   ]
  },
  {
   "cell_type": "code",
   "execution_count": 62,
   "metadata": {
    "collapsed": false
   },
   "outputs": [
    {
     "data": {
      "image/png": "[encoded data removed]",
      "text/plain": [
       "PyPlot.Figure(PyObject <matplotlib.figure.Figure object at 0x31f121b70>)"
      ]
     },
     "metadata": {},
     "output_type": "display_data"
    }
   ],
   "source": [
    "plt[:hist](bkg_dec);"
   ]
  },
  {
   "cell_type": "markdown",
   "metadata": {},
   "source": [
    "## Sig Dir "
   ]
  },
  {
   "cell_type": "code",
   "execution_count": null,
   "metadata": {
    "collapsed": true
   },
   "outputs": [],
   "source": [
    "function S_dir(t_sn::sn,t_nu::nu)\n",
    "    mu = sin(t_sn.dec)*sin(t_nu.dec) + cos(t_sn.dec)*cos(t_nu.dec)*cos(t_sn.ra-t_nu.ra);\n",
    "    kappa = 1/t_nu.ang_err^2;\n",
    "\n",
    "    if kappa > 10.0\n",
    "        result = kappa/(2*pi)*exp(kappa*(mu-1.0))\n",
    "    elseif 1e-2 < kappa <= 10.0\n",
    "        result = kappa/(4*pi*sinh(kappa))*exp(kappa*mu);\n",
    "    elseif 0.0 < kappa <= 1e-2\n",
    "        result = (1.0 + kappa*mu)/(4*pi);\n",
    "    else\n",
    "        error(\"strange kappa\");\n",
    "    end\n",
    "    @assert result >= 0.0;\n",
    "    return cos(t_nu.dec)*result;\n",
    "end"
   ]
  }
 ],
 "metadata": {
  "kernelspec": {
   "display_name": "Julia 0.5.0-rc3",
   "language": "julia",
   "name": "julia-0.5"
  },
  "language_info": {
   "file_extension": ".jl",
   "mimetype": "application/julia",
   "name": "julia",
   "version": "0.5.0"
  }
 },
 "nbformat": 4,
 "nbformat_minor": 0
}
