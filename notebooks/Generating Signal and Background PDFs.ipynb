{
 "cells": [
  {
   "cell_type": "code",
   "execution_count": 1,
   "metadata": {
    "collapsed": true
   },
   "outputs": [],
   "source": [
    "using HypothesisTests\n",
    "using Distributions\n",
    "using KernelDensity\n",
    "using Optim\n",
    "using Interpolations\n",
    "using StatsBase\n",
    "\n",
    "using PyPlot "
   ]
  },
  {
   "cell_type": "markdown",
   "metadata": {},
   "source": [
    "## SNe "
   ]
  },
  {
   "cell_type": "code",
   "execution_count": 13,
   "metadata": {
    "collapsed": false
   },
   "outputs": [
    {
     "data": {
      "text/plain": [
       "\"/Users/nicholassenno/DataScience/sne_nu/notebooks\""
      ]
     },
     "execution_count": 13,
     "metadata": {},
     "output_type": "execute_result"
    }
   ],
   "source": [
    "starting_pwd = pwd()"
   ]
  },
  {
   "cell_type": "code",
   "execution_count": 17,
   "metadata": {
    "collapsed": false
   },
   "outputs": [
    {
     "data": {
      "text/plain": [
       "calc_D_prop (generic function with 1 method)"
      ]
     },
     "execution_count": 17,
     "metadata": {},
     "output_type": "execute_result"
    }
   ],
   "source": [
    "#import some functions and constants to help with cosmology calculations\n",
    "cd(\"../code\")\n",
    "include(\"cosmology.jl\")"
   ]
  },
  {
   "cell_type": "code",
   "execution_count": 19,
   "metadata": {
    "collapsed": false
   },
   "outputs": [],
   "source": [
    "# Create an immutable type nu which contains the arrival time and direction (Right Assension RA and Declination Dec)\n",
    "# These objects will be useful when creating random samples \n",
    "\n",
    "immutable nu\n",
    "    mjd::Float64\n",
    "    ang_err::Float64\n",
    "    ra::Float64\n",
    "    dec::Float64\n",
    "end\n",
    "\n",
    "# TODO : See if zenith_bin is necessary if we don't consider energy \n",
    "\n",
    "# custom type that will store all the relevant information for a SN, including its max time, location, \n",
    "# distance (redshift), and the neutrinos associated in its window\n",
    "\n",
    "type sn\n",
    "  max_date::Float64\n",
    "  ra::Float64\n",
    "  dec::Float64\n",
    "  z::Float64\n",
    "  zenith_bin::Int\n",
    "  nb::Float64\n",
    "  associated_nus::Array{nu,1}\n",
    "  coefs::Array{Float64,1}\n",
    "\n",
    "  function sn(max_date::Real,ra::Float64,dec::Float64,z::Float64)\n",
    "      new_sn = new(max_date,ra,dec,z);\n",
    "      zenith_bin = -1;\n",
    "      new_sn.associated_nus=nu[];\n",
    "      new_sn.coefs =Float64[];\n",
    "\n",
    "      return new_sn\n",
    "  end\n",
    "end"
   ]
  },
  {
   "cell_type": "code",
   "execution_count": null,
   "metadata": {
    "collapsed": true
   },
   "outputs": [],
   "source": []
  }
 ],
 "metadata": {
  "kernelspec": {
   "display_name": "Julia 0.5.0-rc3",
   "language": "julia",
   "name": "julia-0.5"
  },
  "language_info": {
   "file_extension": ".jl",
   "mimetype": "application/julia",
   "name": "julia",
   "version": "0.5.0"
  }
 },
 "nbformat": 4,
 "nbformat_minor": 0
}
