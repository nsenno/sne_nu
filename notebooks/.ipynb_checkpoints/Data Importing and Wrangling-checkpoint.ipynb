{
 "cells": [
  {
   "cell_type": "code",
   "execution_count": 1,
   "metadata": {
    "collapsed": false
   },
   "outputs": [],
   "source": [
    "import pandas as pd \n",
    "import numpy as np\n",
    "\n",
    "from astropy.time import Time\n",
    "from astropy import units as u\n",
    "from astropy.coordinates import Angle"
   ]
  },
  {
   "cell_type": "markdown",
   "metadata": {},
   "source": [
    "### SNe Data \n",
    "\n",
    "Start by importing some raw SNe to wrangle. This data was aquired from the database found at https://sne.space. This CSV file contains information on where in the sky the SNe were observed (RA and Dec), on what day the optical magnitute reached its maximum, and the measured redshift (distance). \n",
    "\n",
    "Steps: \n",
    "1. Because the neutrino data is in terms of Modified Julian Day (MJD) we will convert the SNe Gregorian dates to MJD\n",
    "2. The RA's and Dec's need to be converted to radians \n",
    "3. There are multiple values for some of the RA's, Dec's, and redshit measurements. Some of these are to different significant figures, but since they are relatively close I take the mean of the measurements. \n",
    "4. Finally, we output data by filtering the correct SNe Types and dates corresponding to the neutrino data "
   ]
  },
  {
   "cell_type": "code",
   "execution_count": 2,
   "metadata": {
    "collapsed": false
   },
   "outputs": [
    {
     "name": "stdout",
     "output_type": "stream",
     "text": [
      "/Users/nicholassenno/DataScience/sne_nu/data\n"
     ]
    }
   ],
   "source": [
    "cd ../data"
   ]
  },
  {
   "cell_type": "code",
   "execution_count": 3,
   "metadata": {
    "collapsed": false
   },
   "outputs": [
    {
     "data": {
      "text/html": [
       "<div>\n",
       "<table border=\"1\" class=\"dataframe\">\n",
       "  <thead>\n",
       "    <tr style=\"text-align: right;\">\n",
       "      <th></th>\n",
       "      <th>Max Date</th>\n",
       "      <th>R.A.</th>\n",
       "      <th>Dec.</th>\n",
       "      <th>z</th>\n",
       "      <th>Type</th>\n",
       "    </tr>\n",
       "    <tr>\n",
       "      <th>Name</th>\n",
       "      <th></th>\n",
       "      <th></th>\n",
       "      <th></th>\n",
       "      <th></th>\n",
       "      <th></th>\n",
       "    </tr>\n",
       "  </thead>\n",
       "  <tbody>\n",
       "    <tr>\n",
       "      <th>SN2011ep</th>\n",
       "      <td>2011/07/08</td>\n",
       "      <td>17:03:41.78</td>\n",
       "      <td>+32:45:52.6,+32:45:52.60</td>\n",
       "      <td>0.28,0.28</td>\n",
       "      <td>Ic</td>\n",
       "    </tr>\n",
       "    <tr>\n",
       "      <th>PTF11ixk</th>\n",
       "      <td>2011/07/23</td>\n",
       "      <td>13:21:45.03</td>\n",
       "      <td>+31:14:04.6</td>\n",
       "      <td>0.021</td>\n",
       "      <td>Ic</td>\n",
       "    </tr>\n",
       "    <tr>\n",
       "      <th>PTF11izq</th>\n",
       "      <td>2011/07/25</td>\n",
       "      <td>13:47:30.11</td>\n",
       "      <td>+40:04:32.5</td>\n",
       "      <td>0.062</td>\n",
       "      <td>Ib</td>\n",
       "    </tr>\n",
       "    <tr>\n",
       "      <th>PTF11ilr</th>\n",
       "      <td>2011/07/29</td>\n",
       "      <td>23:07:32.50</td>\n",
       "      <td>+15:20:23.0</td>\n",
       "      <td>NaN</td>\n",
       "      <td>Ib</td>\n",
       "    </tr>\n",
       "    <tr>\n",
       "      <th>SN2011ee</th>\n",
       "      <td>2011/07/31</td>\n",
       "      <td>23:27:57.34</td>\n",
       "      <td>+08:46:38.1,+08:46:38.10,+08:46:38.0</td>\n",
       "      <td>0.03</td>\n",
       "      <td>Ic</td>\n",
       "    </tr>\n",
       "  </tbody>\n",
       "</table>\n",
       "</div>"
      ],
      "text/plain": [
       "            Max Date         R.A.                                  Dec.  \\\n",
       "Name                                                                      \n",
       "SN2011ep  2011/07/08  17:03:41.78              +32:45:52.6,+32:45:52.60   \n",
       "PTF11ixk  2011/07/23  13:21:45.03                           +31:14:04.6   \n",
       "PTF11izq  2011/07/25  13:47:30.11                           +40:04:32.5   \n",
       "PTF11ilr  2011/07/29  23:07:32.50                           +15:20:23.0   \n",
       "SN2011ee  2011/07/31  23:27:57.34  +08:46:38.1,+08:46:38.10,+08:46:38.0   \n",
       "\n",
       "                  z Type  \n",
       "Name                      \n",
       "SN2011ep  0.28,0.28   Ic  \n",
       "PTF11ixk      0.021   Ic  \n",
       "PTF11izq      0.062   Ib  \n",
       "PTF11ilr        NaN   Ib  \n",
       "SN2011ee       0.03   Ic  "
      ]
     },
     "execution_count": 3,
     "metadata": {},
     "output_type": "execute_result"
    }
   ],
   "source": [
    "# read in the SNe data \n",
    "\n",
    "sne_data = pd.read_csv('raw_sne_data.csv',index_col='Name')\n",
    "sne_data.head()"
   ]
  },
  {
   "cell_type": "code",
   "execution_count": 4,
   "metadata": {
    "collapsed": false
   },
   "outputs": [],
   "source": [
    "# convert the Gregorian dates to MJD using Time from astropy.time package \n",
    "# add a new column to the df with MJD dates \n",
    "\n",
    "sne_data['Max Date (MJD)'] = Time([date for date in sne_data['Max Date'].str.replace('/','-')]).mjd + 0.5"
   ]
  },
  {
   "cell_type": "code",
   "execution_count": 5,
   "metadata": {
    "collapsed": false
   },
   "outputs": [
    {
     "data": {
      "text/html": [
       "<div>\n",
       "<table border=\"1\" class=\"dataframe\">\n",
       "  <thead>\n",
       "    <tr style=\"text-align: right;\">\n",
       "      <th></th>\n",
       "      <th>Max Date</th>\n",
       "      <th>R.A.</th>\n",
       "      <th>Dec.</th>\n",
       "      <th>z</th>\n",
       "      <th>Type</th>\n",
       "      <th>Max Date (MJD)</th>\n",
       "    </tr>\n",
       "    <tr>\n",
       "      <th>Name</th>\n",
       "      <th></th>\n",
       "      <th></th>\n",
       "      <th></th>\n",
       "      <th></th>\n",
       "      <th></th>\n",
       "      <th></th>\n",
       "    </tr>\n",
       "  </thead>\n",
       "  <tbody>\n",
       "    <tr>\n",
       "      <th>SN2011ep</th>\n",
       "      <td>2011/07/08</td>\n",
       "      <td>17:03:41.78</td>\n",
       "      <td>+32:45:52.6,+32:45:52.60</td>\n",
       "      <td>0.28,0.28</td>\n",
       "      <td>Ic</td>\n",
       "      <td>55750.5</td>\n",
       "    </tr>\n",
       "    <tr>\n",
       "      <th>PTF11ixk</th>\n",
       "      <td>2011/07/23</td>\n",
       "      <td>13:21:45.03</td>\n",
       "      <td>+31:14:04.6</td>\n",
       "      <td>0.021</td>\n",
       "      <td>Ic</td>\n",
       "      <td>55765.5</td>\n",
       "    </tr>\n",
       "    <tr>\n",
       "      <th>PTF11izq</th>\n",
       "      <td>2011/07/25</td>\n",
       "      <td>13:47:30.11</td>\n",
       "      <td>+40:04:32.5</td>\n",
       "      <td>0.062</td>\n",
       "      <td>Ib</td>\n",
       "      <td>55767.5</td>\n",
       "    </tr>\n",
       "    <tr>\n",
       "      <th>PTF11ilr</th>\n",
       "      <td>2011/07/29</td>\n",
       "      <td>23:07:32.50</td>\n",
       "      <td>+15:20:23.0</td>\n",
       "      <td>NaN</td>\n",
       "      <td>Ib</td>\n",
       "      <td>55771.5</td>\n",
       "    </tr>\n",
       "    <tr>\n",
       "      <th>SN2011ee</th>\n",
       "      <td>2011/07/31</td>\n",
       "      <td>23:27:57.34</td>\n",
       "      <td>+08:46:38.1,+08:46:38.10,+08:46:38.0</td>\n",
       "      <td>0.03</td>\n",
       "      <td>Ic</td>\n",
       "      <td>55773.5</td>\n",
       "    </tr>\n",
       "  </tbody>\n",
       "</table>\n",
       "</div>"
      ],
      "text/plain": [
       "            Max Date         R.A.                                  Dec.  \\\n",
       "Name                                                                      \n",
       "SN2011ep  2011/07/08  17:03:41.78              +32:45:52.6,+32:45:52.60   \n",
       "PTF11ixk  2011/07/23  13:21:45.03                           +31:14:04.6   \n",
       "PTF11izq  2011/07/25  13:47:30.11                           +40:04:32.5   \n",
       "PTF11ilr  2011/07/29  23:07:32.50                           +15:20:23.0   \n",
       "SN2011ee  2011/07/31  23:27:57.34  +08:46:38.1,+08:46:38.10,+08:46:38.0   \n",
       "\n",
       "                  z Type  Max Date (MJD)  \n",
       "Name                                      \n",
       "SN2011ep  0.28,0.28   Ic         55750.5  \n",
       "PTF11ixk      0.021   Ic         55765.5  \n",
       "PTF11izq      0.062   Ib         55767.5  \n",
       "PTF11ilr        NaN   Ib         55771.5  \n",
       "SN2011ee       0.03   Ic         55773.5  "
      ]
     },
     "execution_count": 5,
     "metadata": {},
     "output_type": "execute_result"
    }
   ],
   "source": [
    "sne_data.head()"
   ]
  },
  {
   "cell_type": "code",
   "execution_count": 6,
   "metadata": {
    "collapsed": false
   },
   "outputs": [],
   "source": [
    "# Define function to calculate the average values of R.A. and Dec. \n",
    "# ang_unit is a kwarg which describes how the angular data is presented \n",
    "#\n",
    "#   R.A. -- u.hourangle\n",
    "#   Dec. -- u.degree\n",
    "\n",
    "\n",
    "def get_average_angle(ang, ang_unit = u.degree) : \n",
    "    return np.mean([y for y in map(lambda x : Angle(x,ang_unit).rad,ang.split(','))])\n",
    "\n",
    "# Define function to calculate the average value of redshift (z)\n",
    "# Most values are strings that are separated by ','\n",
    "# However, NaNs are floats. A -1 is returned to signal NA data \n",
    "\n",
    "def get_average_z(z) : \n",
    "    return np.mean(list(map(float,z.split(',')))) if type(z) is str else -1 "
   ]
  },
  {
   "cell_type": "code",
   "execution_count": 7,
   "metadata": {
    "collapsed": false
   },
   "outputs": [],
   "source": [
    "# Clean the R.A., Dec., and z values with one list comprehension \n",
    "# Create new columns for R.A. and Dec. in rad\n",
    "# Replace the z column with the new values \n",
    "\n",
    "sne_data['R.A. (rad)'], sne_data['Dec. (rad)'], sne_data['z'] = list(zip(*[(get_average_angle(row['R.A.'],\\\n",
    "        u.hourangle), get_average_angle(row['Dec.']), get_average_z(row['z'])) for _, row in sne_data.iterrows()]))"
   ]
  },
  {
   "cell_type": "code",
   "execution_count": 8,
   "metadata": {
    "collapsed": false
   },
   "outputs": [
    {
     "data": {
      "text/html": [
       "<div>\n",
       "<table border=\"1\" class=\"dataframe\">\n",
       "  <thead>\n",
       "    <tr style=\"text-align: right;\">\n",
       "      <th></th>\n",
       "      <th>Max Date</th>\n",
       "      <th>R.A.</th>\n",
       "      <th>Dec.</th>\n",
       "      <th>z</th>\n",
       "      <th>Type</th>\n",
       "      <th>Max Date (MJD)</th>\n",
       "      <th>R.A. (rad)</th>\n",
       "      <th>Dec. (rad)</th>\n",
       "    </tr>\n",
       "    <tr>\n",
       "      <th>Name</th>\n",
       "      <th></th>\n",
       "      <th></th>\n",
       "      <th></th>\n",
       "      <th></th>\n",
       "      <th></th>\n",
       "      <th></th>\n",
       "      <th></th>\n",
       "      <th></th>\n",
       "    </tr>\n",
       "  </thead>\n",
       "  <tbody>\n",
       "    <tr>\n",
       "      <th>SN2011ep</th>\n",
       "      <td>2011/07/08</td>\n",
       "      <td>17:03:41.78</td>\n",
       "      <td>+32:45:52.6,+32:45:52.60</td>\n",
       "      <td>0.280000</td>\n",
       "      <td>Ic</td>\n",
       "      <td>55750.5</td>\n",
       "      <td>4.466718</td>\n",
       "      <td>0.571850</td>\n",
       "    </tr>\n",
       "    <tr>\n",
       "      <th>PTF11ixk</th>\n",
       "      <td>2011/07/23</td>\n",
       "      <td>13:21:45.03</td>\n",
       "      <td>+31:14:04.6</td>\n",
       "      <td>0.021000</td>\n",
       "      <td>Ic</td>\n",
       "      <td>55765.5</td>\n",
       "      <td>3.498297</td>\n",
       "      <td>0.545147</td>\n",
       "    </tr>\n",
       "    <tr>\n",
       "      <th>PTF11izq</th>\n",
       "      <td>2011/07/25</td>\n",
       "      <td>13:47:30.11</td>\n",
       "      <td>+40:04:32.5</td>\n",
       "      <td>0.062000</td>\n",
       "      <td>Ib</td>\n",
       "      <td>55767.5</td>\n",
       "      <td>3.610658</td>\n",
       "      <td>0.699453</td>\n",
       "    </tr>\n",
       "    <tr>\n",
       "      <th>PTF11ilr</th>\n",
       "      <td>2011/07/29</td>\n",
       "      <td>23:07:32.50</td>\n",
       "      <td>+15:20:23.0</td>\n",
       "      <td>-1.000000</td>\n",
       "      <td>Ib</td>\n",
       "      <td>55771.5</td>\n",
       "      <td>6.054293</td>\n",
       "      <td>0.267729</td>\n",
       "    </tr>\n",
       "    <tr>\n",
       "      <th>SN2011ee</th>\n",
       "      <td>2011/07/31</td>\n",
       "      <td>23:27:57.34</td>\n",
       "      <td>+08:46:38.1,+08:46:38.10,+08:46:38.0</td>\n",
       "      <td>0.030000</td>\n",
       "      <td>Ic</td>\n",
       "      <td>55773.5</td>\n",
       "      <td>6.143366</td>\n",
       "      <td>0.153192</td>\n",
       "    </tr>\n",
       "    <tr>\n",
       "      <th>PTF11kaa</th>\n",
       "      <td>2011/08/02</td>\n",
       "      <td>17:26:24.17</td>\n",
       "      <td>+46:51:29.6</td>\n",
       "      <td>0.040000</td>\n",
       "      <td>Ib</td>\n",
       "      <td>55775.5</td>\n",
       "      <td>4.565794</td>\n",
       "      <td>0.817830</td>\n",
       "    </tr>\n",
       "    <tr>\n",
       "      <th>SN2011gd</th>\n",
       "      <td>2011/08/17</td>\n",
       "      <td>16:34:25.67</td>\n",
       "      <td>+21:32:28.4,+21:32:28.39,+21:32:28.3</td>\n",
       "      <td>0.009800</td>\n",
       "      <td>Ib</td>\n",
       "      <td>55790.5</td>\n",
       "      <td>4.339010</td>\n",
       "      <td>0.375965</td>\n",
       "    </tr>\n",
       "    <tr>\n",
       "      <th>PTF11klg</th>\n",
       "      <td>2011/09/06</td>\n",
       "      <td>22:07:09.92</td>\n",
       "      <td>+06:29:08.7</td>\n",
       "      <td>0.026522</td>\n",
       "      <td>Ic</td>\n",
       "      <td>55810.5</td>\n",
       "      <td>5.790851</td>\n",
       "      <td>0.113198</td>\n",
       "    </tr>\n",
       "    <tr>\n",
       "      <th>PTF11kmb</th>\n",
       "      <td>2011/09/16</td>\n",
       "      <td>22:22:53.61</td>\n",
       "      <td>+36:17:36.5</td>\n",
       "      <td>0.017000</td>\n",
       "      <td>Ib-Ca</td>\n",
       "      <td>55820.5</td>\n",
       "      <td>5.859478</td>\n",
       "      <td>0.633441</td>\n",
       "    </tr>\n",
       "    <tr>\n",
       "      <th>SN2011fl</th>\n",
       "      <td>2011/09/25</td>\n",
       "      <td>00:47:19.93</td>\n",
       "      <td>+27:49:35.5,+27:49:35.51</td>\n",
       "      <td>0.015800</td>\n",
       "      <td>Ib</td>\n",
       "      <td>55829.5</td>\n",
       "      <td>0.206526</td>\n",
       "      <td>0.485665</td>\n",
       "    </tr>\n",
       "  </tbody>\n",
       "</table>\n",
       "</div>"
      ],
      "text/plain": [
       "            Max Date         R.A.                                  Dec.  \\\n",
       "Name                                                                      \n",
       "SN2011ep  2011/07/08  17:03:41.78              +32:45:52.6,+32:45:52.60   \n",
       "PTF11ixk  2011/07/23  13:21:45.03                           +31:14:04.6   \n",
       "PTF11izq  2011/07/25  13:47:30.11                           +40:04:32.5   \n",
       "PTF11ilr  2011/07/29  23:07:32.50                           +15:20:23.0   \n",
       "SN2011ee  2011/07/31  23:27:57.34  +08:46:38.1,+08:46:38.10,+08:46:38.0   \n",
       "PTF11kaa  2011/08/02  17:26:24.17                           +46:51:29.6   \n",
       "SN2011gd  2011/08/17  16:34:25.67  +21:32:28.4,+21:32:28.39,+21:32:28.3   \n",
       "PTF11klg  2011/09/06  22:07:09.92                           +06:29:08.7   \n",
       "PTF11kmb  2011/09/16  22:22:53.61                           +36:17:36.5   \n",
       "SN2011fl  2011/09/25  00:47:19.93              +27:49:35.5,+27:49:35.51   \n",
       "\n",
       "                 z   Type  Max Date (MJD)  R.A. (rad)  Dec. (rad)  \n",
       "Name                                                               \n",
       "SN2011ep  0.280000     Ic         55750.5    4.466718    0.571850  \n",
       "PTF11ixk  0.021000     Ic         55765.5    3.498297    0.545147  \n",
       "PTF11izq  0.062000     Ib         55767.5    3.610658    0.699453  \n",
       "PTF11ilr -1.000000     Ib         55771.5    6.054293    0.267729  \n",
       "SN2011ee  0.030000     Ic         55773.5    6.143366    0.153192  \n",
       "PTF11kaa  0.040000     Ib         55775.5    4.565794    0.817830  \n",
       "SN2011gd  0.009800     Ib         55790.5    4.339010    0.375965  \n",
       "PTF11klg  0.026522     Ic         55810.5    5.790851    0.113198  \n",
       "PTF11kmb  0.017000  Ib-Ca         55820.5    5.859478    0.633441  \n",
       "SN2011fl  0.015800     Ib         55829.5    0.206526    0.485665  "
      ]
     },
     "execution_count": 8,
     "metadata": {},
     "output_type": "execute_result"
    }
   ],
   "source": [
    "sne_data.head(10)"
   ]
  },
  {
   "cell_type": "markdown",
   "metadata": {},
   "source": [
    "We would also like to filter out only Type Ib/c SNe. Start by examining all the unique Types. "
   ]
  },
  {
   "cell_type": "code",
   "execution_count": 9,
   "metadata": {
    "collapsed": true
   },
   "outputs": [],
   "source": [
    "bad_types = ['SLSN-II','II']"
   ]
  },
  {
   "cell_type": "code",
   "execution_count": 10,
   "metadata": {
    "collapsed": false
   },
   "outputs": [
    {
     "name": "stdout",
     "output_type": "stream",
     "text": [
      "['Ic' 'Ib' 'Ib-Ca' 'SLSN-I' 'Ic BL' 'Ibn' 'Ib/c' 'Ic?' 'SLSN-II' 'IIb/Ib'\n",
      " 'Ic-lum?' 'II' 'Ib/IIb' 'Ib/c-BL' 'Ic Pec']\n"
     ]
    }
   ],
   "source": [
    "unique_types = sne_data.Type.unique()\n",
    "print(unique_types)\n",
    "\n",
    "right_type = [sne_type not in bad_types for sne_type in sne_data.Type]"
   ]
  },
  {
   "cell_type": "markdown",
   "metadata": {},
   "source": [
    "Most of these types are acceptable (I had already excluded Type Ia SNe from sne.space). However, we would like to remove the Type II and Type SLSN II. "
   ]
  },
  {
   "cell_type": "markdown",
   "metadata": {},
   "source": [
    "Based on the neutrino data, we only want SNe for which neutrinos are within the 99% Poisson confidence interval assuming an average delay of 13 days between core-collapse and maximum brightness (see text for details). "
   ]
  },
  {
   "cell_type": "code",
   "execution_count": 11,
   "metadata": {
    "collapsed": false
   },
   "outputs": [],
   "source": [
    "min_mjd = 55750.5 \n",
    "max_mjd = 56068.5 \n",
    "\n",
    "in_time_window = (sne_data['Max Date (MJD)'] >= min_mjd) & (max_mjd >= sne_data['Max Date (MJD)'])"
   ]
  },
  {
   "cell_type": "markdown",
   "metadata": {},
   "source": [
    "Write the cleaned data to a file 'cleaned_sne_data.csv'. Note that we have only used some of the columns, and changed their order to help with readability. "
   ]
  },
  {
   "cell_type": "code",
   "execution_count": 12,
   "metadata": {
    "collapsed": false
   },
   "outputs": [],
   "source": [
    "sne_data.loc[in_time_window*right_type, ['Max Date (MJD)','R.A. (rad)','Dec. (rad)','z','Type']].sort_values( \\\n",
    "        'Max Date (MJD)').to_csv('cleaned_sne_data.csv')"
   ]
  },
  {
   "cell_type": "markdown",
   "metadata": {},
   "source": [
    "## Neutrino Data\n",
    "\n"
   ]
  },
  {
   "cell_type": "code",
   "execution_count": null,
   "metadata": {
    "collapsed": true
   },
   "outputs": [],
   "source": []
  }
 ],
 "metadata": {
  "kernelspec": {
   "display_name": "Python 3",
   "language": "python",
   "name": "python3"
  },
  "language_info": {
   "codemirror_mode": {
    "name": "ipython",
    "version": 3
   },
   "file_extension": ".py",
   "mimetype": "text/x-python",
   "name": "python",
   "nbconvert_exporter": "python",
   "pygments_lexer": "ipython3",
   "version": "3.5.2"
  }
 },
 "nbformat": 4,
 "nbformat_minor": 0
}
