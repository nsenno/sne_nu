{
 "cells": [
  {
   "cell_type": "code",
   "execution_count": 1,
   "metadata": {
    "collapsed": false
   },
   "outputs": [],
   "source": [
    "code_dir = string(homedir(),\"/DataScience/sne_nu/code/\");\n",
    "data_dir = string(homedir(),\"/DataScience/sne_nu/data/\");\n",
    "notebook_dir = string(homedir(),\"/DataScience/sne_nu/notebook/\");"
   ]
  },
  {
   "cell_type": "code",
   "execution_count": 2,
   "metadata": {
    "collapsed": false
   },
   "outputs": [],
   "source": [
    "include(string(code_dir,\"sig_and_bkg_pdfs.jl\"));"
   ]
  },
  {
   "cell_type": "markdown",
   "metadata": {},
   "source": [
    "Next we will put together functions to construct the test statistic TS. For the $j$th SN, we at attempting to determine the number of signal neutrinos ($s_j$) associated with it, compared with the expected number of associated background neutrinos ($b_j$). We accomplish this by maximizing the TS (really minimizing its negative) after computing the expected number of background using randomized neutrino samples $\\langle b_j\\rangle$ and the Signal and Background PDFs for the $i$th neutrino with the $j$th SN.\n",
    "\n",
    "$$\n",
    "{\\rm TS} = \\sum_j^{N_{\\rm sn}} \\left[-s_j + \\sum_{i=1}^{N_j} \\ln\\left[\\frac{s_j \\mathcal{S}_i}{b_j \\mathcal{B}_i} + 1\\right]\\right]\n",
    "$$\n",
    "\n",
    "Note that $\\mathcal{S}_i$ and $\\mathcal{B}_i$ are composite functions of the neutrino arrival time and direction relative to SN $j$.\n",
    "\n",
    "$$\n",
    "\\mathcal{S}_i = \\mathcal{S}_{T}\\,\\mathcal{S}_{\\rm dir}\n",
    "$$\n",
    "\n",
    "This is described in more detail in the notebook \"Generating Signal and Background PDFs\". Because we only care about $s_j$, I combine the rest of the parameters $c_{i,j} = \\frac{\\mathcal{S}_i}{\\langle b\\rangle_j\\mathcal{B}_i}$. Each sn object contains an empty list which can contain the coefficients. \n",
    "\n",
    "\n"
   ]
  },
  {
   "cell_type": "code",
   "execution_count": 3,
   "metadata": {
    "collapsed": true
   },
   "outputs": [],
   "source": [
    "using StatsBase\n",
    "using Distributions"
   ]
  },
  {
   "cell_type": "code",
   "execution_count": 4,
   "metadata": {
    "collapsed": false
   },
   "outputs": [],
   "source": [
    "nu_data = readdlm(string(data_dir,\"cleaned_nu_data.csv\"),',',header=true)[1];\n",
    "sne_data = readdlm(string(data_dir,\"cleaned_sne_data.csv\"),',',header=true)[1];"
   ]
  },
  {
   "cell_type": "code",
   "execution_count": 5,
   "metadata": {
    "collapsed": false
   },
   "outputs": [
    {
     "data": {
      "text/plain": [
       "create_sample_nus (generic function with 2 methods)"
      ]
     },
     "execution_count": 5,
     "metadata": {},
     "output_type": "execute_result"
    }
   ],
   "source": [
    "# Function that reads in an array of neutrino data and converts it into an array of nu objects \n",
    "# \n",
    "# Inputs : \n",
    "#    nu_data --  a 2D array of floats containing raw neutrino data\n",
    "#                data organization : [Arrival Day (MJD), Angular Error, RA, Dec]\n",
    "#\n",
    "# Output : \n",
    "#    an array of nu objects created from raw neutrino data \n",
    "#\n",
    "\n",
    "function create_nu_array(nu_data::Array{Float64,2})\n",
    "    return [nu(nu_data[i,:]...) for i in 1:length(nu_data[:,1])]\n",
    "end\n",
    "\n",
    "# Function that reads in raw neutrino data an returns a randomized sample \n",
    "#\n",
    "# Inputs : \n",
    "#   orig_data --  a 2D array of floats containing original neutrino data \n",
    "#                 data organization : [Arrival Day (MJD), Angular Error, RA, Dec]\n",
    "#\n",
    "#   N_nus     --  Number of randomized samples. If no value is given use the entire length of the orig_data\n",
    "#\n",
    "# Output : \n",
    "#    a 2D array of floats containing a randomized sample of neutrino data \n",
    "#    data organization : [Arrival Day (MJD), Angular Error, RA, Dec]\n",
    "\n",
    "function create_sample_nus(orig_data::Array{Float64,2},N_nus=0)\n",
    "    \n",
    "    if N_nus == 0 \n",
    "        N_nus = length(orig_data[:,1])\n",
    "    end\n",
    "    \n",
    "    mjd = sample(orig_data[:,1],replace=true,N_nus);\n",
    "    ang_err = sample(orig_data[:,2],replace=true,N_nus);\n",
    "    ra = rand(Uniform(0,2pi),N_nus);\n",
    "    dec = sample(orig_data[:,4],replace=true,N_nus);\n",
    "\n",
    "    return hcat(mjd,ang_err,ra,dec)\n",
    "end\n"
   ]
  },
  {
   "cell_type": "code",
   "execution_count": 6,
   "metadata": {
    "collapsed": false
   },
   "outputs": [
    {
     "data": {
      "text/plain": [
       "create_sn_array (generic function with 1 method)"
      ]
     },
     "execution_count": 6,
     "metadata": {},
     "output_type": "execute_result"
    }
   ],
   "source": [
    "# Function that reads in an array of SN data and converts it into an array of sn objects \n",
    "# \n",
    "# Inputs : \n",
    "#    sn_data --  a 2D array of floats containing raw neutrino data\n",
    "#                data organization : [Max Date (MJD), RA, Dec, Redshift (z)]\n",
    "#\n",
    "# Output : \n",
    "#    an array of sn objects created from raw SN data \n",
    "#\n",
    "\n",
    "function create_sn_array(sn_data::Array{Any,2})\n",
    "    return [sn(sn_data[i,2:5]...) for i in 1:length(sn_data[:,1])];\n",
    "end"
   ]
  },
  {
   "cell_type": "code",
   "execution_count": 7,
   "metadata": {
    "collapsed": false
   },
   "outputs": [],
   "source": [
    "sne = create_sn_array(sne_data);"
   ]
  },
  {
   "cell_type": "code",
   "execution_count": 8,
   "metadata": {
    "collapsed": false
   },
   "outputs": [
    {
     "name": "stderr",
     "output_type": "stream",
     "text": [
      "WARNING: Method definition calc_nb() in module Main at /Users/nicholassenno/DataScience/sne_nu/code/sn.jl:96 overwritten at In[8]:5.\n",
      "WARNING: Method definition calc_nb(Any) in module Main at /Users/nicholassenno/DataScience/sne_nu/code/sn.jl:96 overwritten at In[8]:5.\n"
     ]
    },
    {
     "data": {
      "text/plain": [
       "calc_nb (generic function with 2 methods)"
      ]
     },
     "execution_count": 8,
     "metadata": {},
     "output_type": "execute_result"
    }
   ],
   "source": [
    "# function that calculates the average number of neutrinos associated with each SN using scrambled neutrino data \n",
    "# the results are written to a file \"nb_data.dat\" \n",
    "function calc_nb(N_samples = 1000)\n",
    "\n",
    "    len_sne = length(sne); \n",
    "    len_nu = length(nu); \n",
    "\n",
    "    # Array to store the number of background neutrinos for each SN for each randomized sample \n",
    "\n",
    "    num_nb = zeros(Int,N_samples,len_sne); \n",
    "\n",
    "    for n in 1:N_samples\n",
    "        sample_nus = create_nu_array(create_sample_nus(nu_data,len_nu))\n",
    "        num_nb[n,:] = [sum(find_associated_nus(sn,sample_nus)) for sn in sne]\n",
    "    end\n",
    "    \n",
    "    writedlm(string(data_dir,\"nb_data.dat\"),[mean(num_nb[:,i]) for (i,_) in enumerate(sne)])\n",
    "end\n",
    "\n"
   ]
  },
  {
   "cell_type": "code",
   "execution_count": 9,
   "metadata": {
    "collapsed": false
   },
   "outputs": [],
   "source": [
    "nbs = readdlm(string(data_dir,\"nb_data.dat\"))[:]; "
   ]
  },
  {
   "cell_type": "code",
   "execution_count": 10,
   "metadata": {
    "collapsed": false
   },
   "outputs": [],
   "source": [
    "[add_nb!(sn,nbs[i]) for (i,sn) in enumerate(sne)];"
   ]
  },
  {
   "cell_type": "code",
   "execution_count": 11,
   "metadata": {
    "collapsed": false
   },
   "outputs": [],
   "source": [
    "nus = create_nu_array(nu_data);"
   ]
  },
  {
   "cell_type": "code",
   "execution_count": 12,
   "metadata": {
    "collapsed": false
   },
   "outputs": [],
   "source": [
    "[add_nu!(sn,nus[find_associated_nus(sn,nus)]) for (i,sn) in enumerate(sne)];"
   ]
  },
  {
   "cell_type": "code",
   "execution_count": 13,
   "metadata": {
    "collapsed": false
   },
   "outputs": [
    {
     "data": {
      "text/plain": [
       "calc_coefs! (generic function with 1 method)"
      ]
     },
     "execution_count": 13,
     "metadata": {},
     "output_type": "execute_result"
    }
   ],
   "source": [
    "function calc_coefs!(t_sn::sn)\n",
    "    if length(t_sn.associated_nus) > 0\n",
    "        \n",
    "        temp_s = map(x-> S_dir(t_sn,x),t_sn.associated_nus);\n",
    "        temp_s .*= map(x-> S_time(t_sn,x),t_sn.associated_nus);\n",
    "\n",
    "        temp_b = (1/(2*pi))*map(B_dec,[t_sn.associated_nus[j].dec for j in 1:length(t_sn.associated_nus)]);\n",
    "        temp_b ./= 16.0;\n",
    "        \n",
    "        add_coefs!(t_sn,temp_s./temp_b./t_sn.nb);\n",
    "    end\n",
    "end"
   ]
  },
  {
   "cell_type": "code",
   "execution_count": 15,
   "metadata": {
    "collapsed": false
   },
   "outputs": [],
   "source": [
    "map(calc_coefs!,sne);"
   ]
  },
  {
   "cell_type": "code",
   "execution_count": 17,
   "metadata": {
    "collapsed": false
   },
   "outputs": [
    {
     "data": {
      "text/plain": [
       "9-element Array{Float64,1}:\n",
       "  0.0812887\n",
       " 23.9836   \n",
       "  0.912558 \n",
       "  1.48972  \n",
       "  5.4768   \n",
       "  0.0982267\n",
       "  0.115154 \n",
       "  0.381794 \n",
       "  0.24065  "
      ]
     },
     "execution_count": 17,
     "metadata": {},
     "output_type": "execute_result"
    }
   ],
   "source": [
    "sne[1].coefs"
   ]
  },
  {
   "cell_type": "code",
   "execution_count": null,
   "metadata": {
    "collapsed": true
   },
   "outputs": [],
   "source": []
  }
 ],
 "metadata": {
  "kernelspec": {
   "display_name": "Julia 0.5.0-rc3",
   "language": "julia",
   "name": "julia-0.5"
  },
  "language_info": {
   "file_extension": ".jl",
   "mimetype": "application/julia",
   "name": "julia",
   "version": "0.5.0"
  }
 },
 "nbformat": 4,
 "nbformat_minor": 0
}
